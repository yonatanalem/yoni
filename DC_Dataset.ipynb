{
 "cells": [
  {
   "cell_type": "code",
   "execution_count": 1,
   "metadata": {},
   "outputs": [],
   "source": [
    "# DC Properties\n",
    "import pandas as pd\n",
    "import numpy as np\n",
    "import sklearn\n",
    "import matplotlib.pyplot as plt\n",
    "import seaborn as sns\n",
    "import statsmodels.formula.api as smf\n",
    "\n",
    "%matplotlib inline\n",
    "\n",
    "from sklearn.linear_model import LogisticRegression\n",
    "from sklearn.model_selection import train_test_split\n",
    "from sklearn.metrics import classification_report\n",
    "from sklearn.metrics import confusion_matrix\n",
    "from sklearn import preprocessing"
   ]
  },
  {
   "cell_type": "code",
   "execution_count": 2,
   "metadata": {},
   "outputs": [
    {
     "name": "stderr",
     "output_type": "stream",
     "text": [
      "C:\\ProgramData\\Anaconda3\\lib\\site-packages\\IPython\\core\\interactiveshell.py:3049: DtypeWarning: Columns (18,19,20,21,22,23,24,33,34,35,37,43,45) have mixed types. Specify dtype option on import or set low_memory=False.\n",
      "  interactivity=interactivity, compiler=compiler, result=result)\n"
     ]
    }
   ],
   "source": [
    "location = 'datasets/DC_Properties.csv'\n",
    "df = pd.read_csv(location)"
   ]
  },
  {
   "cell_type": "code",
   "execution_count": 3,
   "metadata": {},
   "outputs": [
    {
     "data": {
      "text/plain": [
       "Index(['Unnamed: 0', 'BATHRM', 'HF_BATHRM', 'HEAT', 'AC', 'NUM_UNITS', 'ROOMS',\n",
       "       'BEDRM', 'AYB', 'YR_RMDL', 'EYB', 'STORIES', 'SALEDATE', 'PRICE',\n",
       "       'QUALIFIED', 'SALE_NUM', 'GBA', 'BLDG_NUM', 'STYLE', 'STRUCT', 'GRADE',\n",
       "       'CNDTN', 'EXTWALL', 'ROOF', 'INTWALL', 'KITCHENS', 'FIREPLACES',\n",
       "       'USECODE', 'LANDAREA', 'GIS_LAST_MOD_DTTM', 'SOURCE', 'CMPLX_NUM',\n",
       "       'LIVING_GBA', 'FULLADDRESS', 'CITY', 'STATE', 'ZIPCODE', 'NATIONALGRID',\n",
       "       'LATITUDE', 'LONGITUDE', 'ASSESSMENT_NBHD', 'ASSESSMENT_SUBNBHD',\n",
       "       'CENSUS_TRACT', 'CENSUS_BLOCK', 'WARD', 'SQUARE', 'X', 'Y', 'QUADRANT'],\n",
       "      dtype='object')"
      ]
     },
     "execution_count": 3,
     "metadata": {},
     "output_type": "execute_result"
    }
   ],
   "source": [
    "df.columns"
   ]
  },
  {
   "cell_type": "code",
   "execution_count": 5,
   "metadata": {},
   "outputs": [
    {
     "data": {
      "text/plain": [
       "Unnamed: 0                 0\n",
       "BATHRM                     0\n",
       "HF_BATHRM                  0\n",
       "HEAT                       0\n",
       "AC                         0\n",
       "NUM_UNITS              52261\n",
       "ROOMS                      0\n",
       "BEDRM                      0\n",
       "AYB                      271\n",
       "YR_RMDL                78029\n",
       "EYB                        0\n",
       "STORIES                52305\n",
       "SALEDATE               26770\n",
       "PRICE                  60741\n",
       "QUALIFIED                  0\n",
       "SALE_NUM                   0\n",
       "GBA                    52261\n",
       "BLDG_NUM                   0\n",
       "STYLE                  52261\n",
       "STRUCT                 52261\n",
       "GRADE                  52261\n",
       "CNDTN                  52261\n",
       "EXTWALL                52261\n",
       "ROOF                   52261\n",
       "INTWALL                52261\n",
       "KITCHENS               52262\n",
       "FIREPLACES                 0\n",
       "USECODE                    0\n",
       "LANDAREA                   0\n",
       "GIS_LAST_MOD_DTTM          0\n",
       "SOURCE                     0\n",
       "CMPLX_NUM             106696\n",
       "LIVING_GBA            106696\n",
       "FULLADDRESS            52917\n",
       "CITY                   52906\n",
       "STATE                  52906\n",
       "ZIPCODE                    1\n",
       "NATIONALGRID           52906\n",
       "LATITUDE                   1\n",
       "LONGITUDE                  1\n",
       "ASSESSMENT_NBHD            1\n",
       "ASSESSMENT_SUBNBHD     32551\n",
       "CENSUS_TRACT               1\n",
       "CENSUS_BLOCK           52906\n",
       "WARD                       1\n",
       "SQUARE                     0\n",
       "X                        237\n",
       "Y                        237\n",
       "QUADRANT                 237\n",
       "dtype: int64"
      ]
     },
     "execution_count": 5,
     "metadata": {},
     "output_type": "execute_result"
    }
   ],
   "source": [
    "df.isnull().sum()"
   ]
  },
  {
   "cell_type": "code",
   "execution_count": 7,
   "metadata": {},
   "outputs": [],
   "source": [
    "df.drop(['CMPLX_NUM', 'LIVING_GBA', 'FULLADDRESS', 'CITY', 'STATE', 'ASSESSMENT_SUBNBHD', 'CENSUS_BLOCK', \n",
    "         'NUM_UNITS', 'YR_RMDL','STYLE', 'STRUCT', 'GRADE', 'CNDTN', 'EXTWALL', 'ROOF', 'INTWALL', 'KITCHENS',\n",
    "         'NATIONALGRID', 'X', 'Y'], axis=1, inplace=True)"
   ]
  },
  {
   "cell_type": "code",
   "execution_count": 8,
   "metadata": {},
   "outputs": [
    {
     "data": {
      "text/plain": [
       "Index(['Unnamed: 0', 'BATHRM', 'HF_BATHRM', 'HEAT', 'AC', 'ROOMS', 'BEDRM',\n",
       "       'AYB', 'EYB', 'STORIES', 'SALEDATE', 'PRICE', 'QUALIFIED', 'SALE_NUM',\n",
       "       'GBA', 'BLDG_NUM', 'FIREPLACES', 'USECODE', 'LANDAREA',\n",
       "       'GIS_LAST_MOD_DTTM', 'SOURCE', 'ZIPCODE', 'LATITUDE', 'LONGITUDE',\n",
       "       'ASSESSMENT_NBHD', 'CENSUS_TRACT', 'WARD', 'SQUARE', 'QUADRANT'],\n",
       "      dtype='object')"
      ]
     },
     "execution_count": 8,
     "metadata": {},
     "output_type": "execute_result"
    }
   ],
   "source": [
    "df.columns"
   ]
  },
  {
   "cell_type": "code",
   "execution_count": 9,
   "metadata": {},
   "outputs": [
    {
     "data": {
      "text/plain": [
       "Unnamed: 0               0\n",
       "BATHRM                   0\n",
       "HF_BATHRM                0\n",
       "HEAT                     0\n",
       "AC                       0\n",
       "ROOMS                    0\n",
       "BEDRM                    0\n",
       "AYB                    271\n",
       "EYB                      0\n",
       "STORIES              52305\n",
       "SALEDATE             26770\n",
       "PRICE                60741\n",
       "QUALIFIED                0\n",
       "SALE_NUM                 0\n",
       "GBA                  52261\n",
       "BLDG_NUM                 0\n",
       "FIREPLACES               0\n",
       "USECODE                  0\n",
       "LANDAREA                 0\n",
       "GIS_LAST_MOD_DTTM        0\n",
       "SOURCE                   0\n",
       "ZIPCODE                  1\n",
       "LATITUDE                 1\n",
       "LONGITUDE                1\n",
       "ASSESSMENT_NBHD          1\n",
       "CENSUS_TRACT             1\n",
       "WARD                     1\n",
       "SQUARE                   0\n",
       "QUADRANT               237\n",
       "dtype: int64"
      ]
     },
     "execution_count": 9,
     "metadata": {},
     "output_type": "execute_result"
    }
   ],
   "source": [
    "df.isnull().sum()"
   ]
  },
  {
   "cell_type": "code",
   "execution_count": 10,
   "metadata": {},
   "outputs": [],
   "source": [
    "df.drop(['GBA', 'STORIES'], axis=1, inplace=True)"
   ]
  },
  {
   "cell_type": "code",
   "execution_count": 13,
   "metadata": {},
   "outputs": [],
   "source": [
    "df = df.dropna()"
   ]
  },
  {
   "cell_type": "code",
   "execution_count": 14,
   "metadata": {},
   "outputs": [
    {
     "data": {
      "text/plain": [
       "Unnamed: 0           0\n",
       "BATHRM               0\n",
       "HF_BATHRM            0\n",
       "HEAT                 0\n",
       "AC                   0\n",
       "ROOMS                0\n",
       "BEDRM                0\n",
       "AYB                  0\n",
       "EYB                  0\n",
       "SALEDATE             0\n",
       "PRICE                0\n",
       "QUALIFIED            0\n",
       "SALE_NUM             0\n",
       "BLDG_NUM             0\n",
       "FIREPLACES           0\n",
       "USECODE              0\n",
       "LANDAREA             0\n",
       "GIS_LAST_MOD_DTTM    0\n",
       "SOURCE               0\n",
       "ZIPCODE              0\n",
       "LATITUDE             0\n",
       "LONGITUDE            0\n",
       "ASSESSMENT_NBHD      0\n",
       "CENSUS_TRACT         0\n",
       "WARD                 0\n",
       "SQUARE               0\n",
       "QUADRANT             0\n",
       "dtype: int64"
      ]
     },
     "execution_count": 14,
     "metadata": {},
     "output_type": "execute_result"
    }
   ],
   "source": [
    "df.isnull().sum()"
   ]
  },
  {
   "cell_type": "code",
   "execution_count": 15,
   "metadata": {},
   "outputs": [
    {
     "data": {
      "text/plain": [
       "Unnamed: 0             int64\n",
       "BATHRM                 int64\n",
       "HF_BATHRM              int64\n",
       "HEAT                  object\n",
       "AC                    object\n",
       "ROOMS                  int64\n",
       "BEDRM                  int64\n",
       "AYB                  float64\n",
       "EYB                    int64\n",
       "SALEDATE              object\n",
       "PRICE                float64\n",
       "QUALIFIED             object\n",
       "SALE_NUM               int64\n",
       "BLDG_NUM               int64\n",
       "FIREPLACES             int64\n",
       "USECODE                int64\n",
       "LANDAREA               int64\n",
       "GIS_LAST_MOD_DTTM     object\n",
       "SOURCE                object\n",
       "ZIPCODE              float64\n",
       "LATITUDE             float64\n",
       "LONGITUDE            float64\n",
       "ASSESSMENT_NBHD       object\n",
       "CENSUS_TRACT         float64\n",
       "WARD                  object\n",
       "SQUARE                object\n",
       "QUADRANT              object\n",
       "dtype: object"
      ]
     },
     "execution_count": 15,
     "metadata": {},
     "output_type": "execute_result"
    }
   ],
   "source": [
    "df.dtypes"
   ]
  },
  {
   "cell_type": "code",
   "execution_count": 25,
   "metadata": {},
   "outputs": [],
   "source": [
    "df.to_csv('DC_Dataset.csv', index=False, header=True)"
   ]
  },
  {
   "cell_type": "code",
   "execution_count": 19,
   "metadata": {},
   "outputs": [],
   "source": [
    "year_cutoff = pd.to_datetime('1992-Jan-1')\n",
    "\n",
    "df['SALEDATE'] = pd.to_datetime(df['SALEDATE'])\n",
    "\n",
    "df.drop(df[(df['SALEDATE'] <= year_cutoff)].index, inplace=True)"
   ]
  },
  {
   "cell_type": "code",
   "execution_count": 24,
   "metadata": {},
   "outputs": [],
   "source": [
    "meanPrice = df['PRICE'].mean()\n",
    "stdPrice = df['PRICE'].std()\n",
    "toprange = meanPrice + stdPrice * 1.96\n",
    "botrange = meanPrice - stdPrice *1.96\n",
    "\n",
    "\n",
    "df = df.drop(df[df['PRICE'] > toprange].index)\n",
    "df = df.drop(df[df['PRICE'] < botrange].index)"
   ]
  },
  {
   "cell_type": "code",
   "execution_count": 27,
   "metadata": {},
   "outputs": [
    {
     "data": {
      "text/plain": [
       "6     19903\n",
       "4     15813\n",
       "3     13701\n",
       "7     11740\n",
       "5     10555\n",
       "8      9173\n",
       "9      4185\n",
       "2      3822\n",
       "10     3578\n",
       "12     1784\n",
       "11     1331\n",
       "16      794\n",
       "13      417\n",
       "14      313\n",
       "15      169\n",
       "20       82\n",
       "18       66\n",
       "1        63\n",
       "0        52\n",
       "17       33\n",
       "19       16\n",
       "21        8\n",
       "24        7\n",
       "23        5\n",
       "22        4\n",
       "28        2\n",
       "25        2\n",
       "30        1\n",
       "Name: ROOMS, dtype: int64"
      ]
     },
     "execution_count": 27,
     "metadata": {},
     "output_type": "execute_result"
    }
   ],
   "source": [
    "df['ROOMS'].value_counts()"
   ]
  },
  {
   "cell_type": "code",
   "execution_count": null,
   "metadata": {},
   "outputs": [],
   "source": []
  }
 ],
 "metadata": {
  "kernelspec": {
   "display_name": "Python 3",
   "language": "python",
   "name": "python3"
  },
  "language_info": {
   "codemirror_mode": {
    "name": "ipython",
    "version": 3
   },
   "file_extension": ".py",
   "mimetype": "text/x-python",
   "name": "python",
   "nbconvert_exporter": "python",
   "pygments_lexer": "ipython3",
   "version": "3.7.3"
  }
 },
 "nbformat": 4,
 "nbformat_minor": 2
}
