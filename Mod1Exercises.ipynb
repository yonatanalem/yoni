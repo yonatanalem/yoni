{
 "cells": [
  {
   "cell_type": "markdown",
   "metadata": {},
   "source": [
    "# Module 1 Exercises - Basic Python"
   ]
  },
  {
   "cell_type": "markdown",
   "metadata": {},
   "source": [
    "### Exercise 1:\n",
    "Create a variable that has an int value and another variable that has a float value. Write code that prints the product (multiply the two variables together).\n",
    "\n",
    "*Hint*: To multiply numbers in Python, use the asterisk sign (*). "
   ]
  },
  {
   "cell_type": "code",
   "execution_count": 1,
   "metadata": {},
   "outputs": [
    {
     "name": "stdout",
     "output_type": "stream",
     "text": [
      "25.0\n"
     ]
    }
   ],
   "source": [
    "x= 10\n",
    "y= 2.5\n",
    "\n",
    "a= x*y\n",
    "print(a)"
   ]
  },
  {
   "cell_type": "markdown",
   "metadata": {},
   "source": [
    "### Exercise 2:\n",
    "\n",
    "Make a list of all the months in the year. Write code that uses a loop to go through the list, print out the month and the number of characters (length) for each month word."
   ]
  },
  {
   "cell_type": "code",
   "execution_count": 4,
   "metadata": {},
   "outputs": [
    {
     "name": "stdout",
     "output_type": "stream",
     "text": [
      "january\n",
      "7\n",
      "febuary\n",
      "7\n",
      "march\n",
      "5\n",
      "april\n",
      "5\n",
      "may\n",
      "3\n",
      "june\n",
      "4\n",
      "july\n",
      "4\n",
      "august\n",
      "6\n",
      "september\n",
      "9\n",
      "october\n",
      "7\n",
      "november\n",
      "8\n",
      "december\n",
      "8\n"
     ]
    }
   ],
   "source": [
    "months = ['january', 'febuary', 'march', 'april', 'may', 'june', 'july', 'august', 'september','october', 'november', 'december']\n",
    "for month in months:\n",
    "    print(month)\n",
    "    print(len(month))"
   ]
  },
  {
   "cell_type": "code",
   "execution_count": null,
   "metadata": {},
   "outputs": [],
   "source": []
  },
  {
   "cell_type": "markdown",
   "metadata": {},
   "source": [
    "### Exercise 3:\n",
    "Create a dictionary with keys \"movie\" and \"season\", with the values being your favorite movie and season. Then write code to print out \"My favorite [key] is [value]\"."
   ]
  },
  {
   "cell_type": "code",
   "execution_count": 7,
   "metadata": {},
   "outputs": [
    {
     "name": "stdout",
     "output_type": "stream",
     "text": [
      "My favorite movie is Inception\n",
      "My favorite season is Spring\n"
     ]
    }
   ],
   "source": [
    "favorites = {'movie': 'Inception',\n",
    "            'season': \"Spring\"}\n",
    "for key, value in favorites.items():\n",
    "    print('My favorite '+ key+ ' is ' +value)"
   ]
  },
  {
   "cell_type": "code",
   "execution_count": null,
   "metadata": {},
   "outputs": [],
   "source": []
  },
  {
   "cell_type": "markdown",
   "metadata": {},
   "source": [
    "### Exercise 4:\n",
    "Create a customized function (def) that divides two variables and returns the result of their division. Then call your function using the variables you made in Exercise 1. \n",
    "\n",
    "*Hint*: To divide numbers in Python, use the forward slash (/)."
   ]
  },
  {
   "cell_type": "code",
   "execution_count": 8,
   "metadata": {},
   "outputs": [],
   "source": [
    "def divNum(num1, num2):\n",
    "    return num1/num2"
   ]
  },
  {
   "cell_type": "code",
   "execution_count": 9,
   "metadata": {},
   "outputs": [
    {
     "data": {
      "text/plain": [
       "4.0"
      ]
     },
     "execution_count": 9,
     "metadata": {},
     "output_type": "execute_result"
    }
   ],
   "source": [
    "divNum(x,y)"
   ]
  },
  {
   "cell_type": "code",
   "execution_count": null,
   "metadata": {},
   "outputs": [],
   "source": []
  }
 ],
 "metadata": {
  "kernelspec": {
   "display_name": "Python 3",
   "language": "python",
   "name": "python3"
  },
  "language_info": {
   "codemirror_mode": {
    "name": "ipython",
    "version": 3
   },
   "file_extension": ".py",
   "mimetype": "text/x-python",
   "name": "python",
   "nbconvert_exporter": "python",
   "pygments_lexer": "ipython3",
   "version": "3.7.3"
  }
 },
 "nbformat": 4,
 "nbformat_minor": 2
}
