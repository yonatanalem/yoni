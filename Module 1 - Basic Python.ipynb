{
 "cells": [
  {
   "cell_type": "markdown",
   "metadata": {},
   "source": [
    "# Module 1 - Basic Python"
   ]
  },
  {
   "cell_type": "markdown",
   "metadata": {},
   "source": [
    "## Setting values to variables"
   ]
  },
  {
   "cell_type": "markdown",
   "metadata": {},
   "source": [
    "The value types that we will be using in this course are mainly int, float, and string values.\n",
    "\n",
    "- An int value is an integer (whole numbers)\n",
    "- A float value is a decimal number\n",
    "- A string value is alpha-numeric characters that cannot be mathematically computed; can use single or double quotes\n",
    "- The pound/hashtag (#) sign denotes comments, which is not read by python as code"
   ]
  },
  {
   "cell_type": "code",
   "execution_count": null,
   "metadata": {
    "collapsed": true
   },
   "outputs": [],
   "source": [
    "x = 5 #int\n",
    "y = 7.23 #float\n",
    "z = 'hello world' #string"
   ]
  },
  {
   "cell_type": "code",
   "execution_count": null,
   "metadata": {},
   "outputs": [],
   "source": [
    "#use the \"print\" function to see the output of the values stored in the variables\n",
    "print(x)\n",
    "print(y)\n",
    "print(z)"
   ]
  },
  {
   "cell_type": "code",
   "execution_count": null,
   "metadata": {
    "scrolled": true
   },
   "outputs": [],
   "source": [
    "#Jupyter notebooks can display the output of a variable's value by typing the variable name but only will output the last \"called on\" variable\n",
    "\n",
    "y #this will not display\n",
    "z #this will display b/c it's the last"
   ]
  },
  {
   "cell_type": "code",
   "execution_count": null,
   "metadata": {},
   "outputs": [],
   "source": [
    "#the \"type\" function will tell you what data type a variable is\n",
    "type(z)"
   ]
  },
  {
   "cell_type": "code",
   "execution_count": null,
   "metadata": {
    "scrolled": false
   },
   "outputs": [],
   "source": [
    "#variables can be added together\n",
    "a = x + y\n",
    "print(a)\n",
    "\n",
    "#also works for strings\n",
    "r = \"hello\"\n",
    "s = \"world\"\n",
    "print(r + s)"
   ]
  },
  {
   "cell_type": "markdown",
   "metadata": {},
   "source": [
    "## If Statement\n",
    "\n",
    "- Checks if a condition is true\n",
    "- Python will auto-indent starting from the first line after the colon within the If statement\n",
    "- Indentation signifies the code that belongs to the If statement\n",
    "\n",
    "* Note: != is \"not equal to\""
   ]
  },
  {
   "cell_type": "code",
   "execution_count": null,
   "metadata": {
    "scrolled": true
   },
   "outputs": [],
   "source": [
    "#check to see if something is true\n",
    "#can also use other tests of equality >, <, !=\n",
    "if x == 5: \n",
    "    print(\"It is five.\")\n",
    "else:\n",
    "    print(\"It is not five.\")"
   ]
  },
  {
   "cell_type": "markdown",
   "metadata": {},
   "source": [
    "## Lists and For loops\n",
    "\n",
    "- A list is a container for multiple values\n",
    "- A For loop goes through each item within a list and executes the code that should be done for each item\n",
    "- Python will auto-indent starting from the first line after the colon within the loop"
   ]
  },
  {
   "cell_type": "code",
   "execution_count": null,
   "metadata": {
    "collapsed": true
   },
   "outputs": [],
   "source": [
    "#this is a list with 3 items\n",
    "colors = ['red', 'yellow', 'blue']"
   ]
  },
  {
   "cell_type": "code",
   "execution_count": null,
   "metadata": {
    "scrolled": false
   },
   "outputs": [],
   "source": [
    "#iterating through a list\n",
    "for color in colors:\n",
    "    print(color)"
   ]
  },
  {
   "cell_type": "markdown",
   "metadata": {},
   "source": [
    "- The len function returns the length (number of) items"
   ]
  },
  {
   "cell_type": "code",
   "execution_count": null,
   "metadata": {},
   "outputs": [],
   "source": [
    "print(len(colors))\n",
    "print(len(z)) #also works on counting characters (including spaces and punctuation) in a string"
   ]
  },
  {
   "cell_type": "markdown",
   "metadata": {},
   "source": [
    "- Python position counting (called \"index\") starts from 0\n",
    "- To \"slice\" a list is to look at particular specified values\n",
    "- The first number is the starting index of the value to get and the 2nd number after the colon is the index to stop at (not inclusive)"
   ]
  },
  {
   "cell_type": "code",
   "execution_count": null,
   "metadata": {
    "scrolled": true
   },
   "outputs": [],
   "source": [
    "#this list has 7 items\n",
    "#position index starts at 0 and ends at 6\n",
    "days = ['Sunday', 'Monday', 'Tuesday', 'Wednesday', 'Thursday', 'Friday', 'Saturday']\n",
    "days[2:6] #2nd number is up to but not including that index number"
   ]
  },
  {
   "cell_type": "markdown",
   "metadata": {},
   "source": [
    "## Dictionaries\n",
    "\n",
    " - Similar to lists, dictionaries are a container type to store values\n",
    " - Items in dictionaries are stored with a key:value pair (like a physical dictionary - you look up a word (key) and find the definition (value))\n",
    " - Instead of getting values by their positions, values are called by their key name"
   ]
  },
  {
   "cell_type": "code",
   "execution_count": null,
   "metadata": {},
   "outputs": [],
   "source": [
    "#dictionaries use curly brackets\n",
    "\n",
    "pets = {'Goku': 'dog',\n",
    "        'Mika': 'dog',\n",
    "        'Brunson': 'cat',\n",
    "        'Lucas': 'cat',\n",
    "        'Genki': 'fish'}"
   ]
  },
  {
   "cell_type": "code",
   "execution_count": null,
   "metadata": {},
   "outputs": [],
   "source": [
    "#to see what kind of pet Mika is, look up the key \"Mika\" for the dictionary \"pets\"\n",
    "print(pets['Mika'])"
   ]
  },
  {
   "cell_type": "code",
   "execution_count": null,
   "metadata": {},
   "outputs": [],
   "source": [
    "#see the entire dictionary\n",
    "print(pets)"
   ]
  },
  {
   "cell_type": "code",
   "execution_count": null,
   "metadata": {},
   "outputs": [],
   "source": [
    "#list of keys\n",
    "pets.keys()"
   ]
  },
  {
   "cell_type": "code",
   "execution_count": null,
   "metadata": {},
   "outputs": [],
   "source": [
    "#list of values\n",
    "pets.values()"
   ]
  },
  {
   "cell_type": "code",
   "execution_count": null,
   "metadata": {},
   "outputs": [],
   "source": [
    "#add new values to a dictionary\n",
    "#type the dictionary name with the new key in square brackets\n",
    "#then set equal to the value for the key\n",
    "\n",
    "pets['Tiny'] = 'dog'\n",
    "print(pets)"
   ]
  },
  {
   "cell_type": "code",
   "execution_count": null,
   "metadata": {},
   "outputs": [],
   "source": [
    "#iterating over a dictionary\n",
    "\n",
    "#items functions gets key,value pair in dictionary\n",
    "for name, animal in pets.items(): \n",
    "    print(name + \" is a \" + animal)"
   ]
  },
  {
   "cell_type": "markdown",
   "metadata": {},
   "source": [
    "## Def function\n",
    "\n",
    "- Used to write code to create your own function\n",
    "- Python will auto-indent starting from the first line after the colon within the \"def\" function\n",
    "- The blue letters are the name of your function (no spaces)\n",
    "- Inside the parentheses are the placeholder variables for the arguments (what will be passed into the function to compute on)\n",
    "- The return function sends back the value after the function is finished\n",
    "- The def function does not produce output, but stores the function in-memory; the function must be called"
   ]
  },
  {
   "cell_type": "code",
   "execution_count": null,
   "metadata": {
    "collapsed": true
   },
   "outputs": [],
   "source": [
    "#make a function\n",
    "def addNum(num1, num2):\n",
    "    return num1 + num2"
   ]
  },
  {
   "cell_type": "code",
   "execution_count": null,
   "metadata": {},
   "outputs": [],
   "source": [
    "#using the function\n",
    "addNum(x, y)"
   ]
  }
 ],
 "metadata": {
  "kernelspec": {
   "display_name": "Python 3",
   "language": "python",
   "name": "python3"
  },
  "language_info": {
   "codemirror_mode": {
    "name": "ipython",
    "version": 3
   },
   "file_extension": ".py",
   "mimetype": "text/x-python",
   "name": "python",
   "nbconvert_exporter": "python",
   "pygments_lexer": "ipython3",
   "version": "3.7.3"
  },
  "toc": {
   "base_numbering": 1,
   "nav_menu": {},
   "number_sections": false,
   "sideBar": false,
   "skip_h1_title": false,
   "title_cell": "Table of Contents",
   "title_sidebar": "Contents",
   "toc_cell": false,
   "toc_position": {},
   "toc_section_display": false,
   "toc_window_display": false
  }
 },
 "nbformat": 4,
 "nbformat_minor": 2
}
